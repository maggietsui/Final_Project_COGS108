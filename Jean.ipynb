{
 "cells": [
  {
   "cell_type": "markdown",
   "metadata": {},
   "source": [
    "A91147501 Nichakarn Ratanaphaithun  \n",
    "A12108176  \n",
    "A12118052  \n",
    "\n",
    "# Introduction\n",
    "In 2015, the City of San Diego conducted a resident satisfaction survey that assessed various aspects of living in San Diego. Residents provided an overall rating of the city of San Diego as a place to live as well as satisfaction ratings on specific city services and programs. \n",
    "\n",
    "By exploring these responses, we hope to find the most common causes of resident dissatisfaction and which neighborhoods they are most prominent in. As students of UC San Diego in the affluent La Jolla neighborhood, we have become accustomed to living inside a “bubble” of privilege, but as members of the community, we believe that uncovering these truths will be useful to future development plans for the university and the city.\n",
    "\n",
    "#### Research Question:\n",
    "What factors of living in San Diego contribute most to resident dissatisfaction? What kinds of neighborhoods are unsatisfactory, and why?\n",
    "\n",
    "#### Hypothesis:\n",
    "We predict that residents in communities with lower housing prices will have lower overall resident satisfaction. We hypothesize that factors such as the proximity to different resources and the maintenance of services the city provides correlate with resident satisfaction."
   ]
  },
  {
   "cell_type": "markdown",
   "metadata": {},
   "source": [
    "# Data Set Descriptions\n",
    "\n",
    "<b>Name</b>: Resident Satisfaction Survey Results  \n",
    "<b>Link to the dataset:</b> https://data.sandiego.gov/datasets/resident-satisfaction-survey/  \n",
    "<b>Number of observations:</b> 2478  \n",
    "<b>Description:</b> This dataset contains the results of 2,478 surveys conducted on San Diego residents. The survey assessed satisfaction with the delivery of City programs, services, staff and preferences about how City officials should prioritize programs and services. Each survey contained 28 questions and the zip code of each respondent is provided.\n",
    "\n",
    "<b>Name:</b> Median Housing Prices by Zip Code  \n",
    "<b>Link to the dataset:</b> https://query.data.world/s/4YkmYcRnpcRqTmJ9qWn5KRALu157jX  \n",
    "<b>Description:</b> This dataset contains the monthly median housing prices of listings on Zillow, the leading online real estate database. We recognize tha"
   ]
  },
  {
   "cell_type": "markdown",
   "metadata": {},
   "source": [
    "# Imports"
   ]
  },
  {
   "cell_type": "code",
   "execution_count": 60,
   "metadata": {
    "collapsed": true
   },
   "outputs": [],
   "source": [
    "%matplotlib inline\n",
    "\n",
    "from IPython.display import Image\n",
    "import numpy as np\n",
    "import pandas as pd\n",
    "import matplotlib.pyplot as plt\n",
    "\n",
    "import patsy\n",
    "import statsmodels.api as sm\n",
    "import scipy.stats as stats\n",
    "from scipy.stats import ttest_ind, chisquare, normaltest"
   ]
  },
  {
   "cell_type": "markdown",
   "metadata": {},
   "source": [
    "# Background\n",
    "We first addressed the main crux of our research question with the exploration of income. Since housing prices are an indicator of income in a certain neighborhood, we utilized San Diego's median housing prices in 2017-09 (September of 2017), visualized in a histogram to see the distribution of prices. As demonstrated by the skewness and non-normal distribution, there is a large amount of cheaper houses. This hints to a gap between high income communities and low-income ones in the San Diego county."
   ]
  },
  {
   "cell_type": "code",
   "execution_count": 54,
   "metadata": {
    "collapsed": true
   },
   "outputs": [],
   "source": [
    "#Read in income data\n",
    "avg_house_prices = pd.read_csv('https://query.data.world/s/4YkmYcRnpcRqTmJ9qWn5KRALu157jX')\n",
    "avg_house_prices = avg_house_prices[avg_house_prices['CountyName'] == 'San Diego'] \n",
    "\n",
    "#Extract zipcode, city, 2015-01 column\n",
    "avg_house_prices = avg_house_prices[['RegionName', 'City', '2015-01']]\n",
    "avg_house_prices.dropna(inplace=True)"
   ]
  },
  {
   "cell_type": "code",
   "execution_count": 55,
   "metadata": {},
   "outputs": [
    {
     "data": {
      "image/png": "[encoded data removed]",
      "text/plain": [
       "<matplotlib.figure.Figure at 0x1c1b783b38>"
      ]
     },
     "metadata": {},
     "output_type": "display_data"
    }
   ],
   "source": [
    "#Plot histogram of avg house prices\n",
    "histogram = plt.hist(avg_house_prices['2015-01'], 20, edgecolor='black', facecolor='blue',normed=1)\n",
    "plt.xlabel('Average House Price ($1,000)')\n",
    "plt.ylabel('Frequency')\n",
    "plt.title('Average House Prices for San Diego')\n",
    "\n",
    "f1 = plt.gcf()"
   ]
  },
  {
   "cell_type": "markdown",
   "metadata": {},
   "source": [
    "# Data Cleaning\n",
    "In the survey results, we first explored the different answers to gain a better understanding of what we can achieve in terms of analysis later on. We realized that there were a variety of questions which led to a inconsistent answers. Some of them were quantitive, as in respondants answered questioned based on a scale from 1 to 5, with 1 being the most disatistfied. Others were qualitative, which each answer specified to, for example, a certain income bracket. As such, we had to eliminate all the questions with responses that weren't pertaining to satisfaction/dissatisfaction."
   ]
  },
  {
   "cell_type": "code",
   "execution_count": 41,
   "metadata": {},
   "outputs": [
    {
     "data": {
      "text/html": [
       "<div>\n",
       "<style>\n",
       "    .dataframe thead tr:only-child th {\n",
       "        text-align: right;\n",
       "    }\n",
       "\n",
       "    .dataframe thead th {\n",
       "        text-align: left;\n",
       "    }\n",
       "\n",
       "    .dataframe tbody tr th {\n",
       "        vertical-align: top;\n",
       "    }\n",
       "</style>\n",
       "<table border=\"1\" class=\"dataframe\">\n",
       "  <thead>\n",
       "    <tr style=\"text-align: right;\">\n",
       "      <th></th>\n",
       "      <th>Num</th>\n",
       "      <th>Q1_1</th>\n",
       "      <th>Q1_2</th>\n",
       "      <th>Q1_3</th>\n",
       "      <th>Q1_4</th>\n",
       "      <th>Q1_5</th>\n",
       "      <th>Q1_6</th>\n",
       "      <th>Q2_1</th>\n",
       "      <th>Q2_2</th>\n",
       "      <th>Q2_3</th>\n",
       "      <th>...</th>\n",
       "      <th>Q25_1st</th>\n",
       "      <th>Q25_2nd</th>\n",
       "      <th>Q25_3rd</th>\n",
       "      <th>Q25_4th</th>\n",
       "      <th>Q25_5th</th>\n",
       "      <th>Q25_other</th>\n",
       "      <th>Q26</th>\n",
       "      <th>Q27</th>\n",
       "      <th>Q28</th>\n",
       "      <th>ZIP</th>\n",
       "    </tr>\n",
       "  </thead>\n",
       "  <tbody>\n",
       "    <tr>\n",
       "      <th>0</th>\n",
       "      <td>1</td>\n",
       "      <td>5</td>\n",
       "      <td>4</td>\n",
       "      <td>4</td>\n",
       "      <td>3</td>\n",
       "      <td>3</td>\n",
       "      <td>3</td>\n",
       "      <td>4</td>\n",
       "      <td>5</td>\n",
       "      <td>3</td>\n",
       "      <td>...</td>\n",
       "      <td>3</td>\n",
       "      <td>NaN</td>\n",
       "      <td>NaN</td>\n",
       "      <td>NaN</td>\n",
       "      <td>NaN</td>\n",
       "      <td>NaN</td>\n",
       "      <td>2</td>\n",
       "      <td>2</td>\n",
       "      <td>7</td>\n",
       "      <td>92124</td>\n",
       "    </tr>\n",
       "    <tr>\n",
       "      <th>1</th>\n",
       "      <td>2</td>\n",
       "      <td>5</td>\n",
       "      <td>5</td>\n",
       "      <td>9</td>\n",
       "      <td>3</td>\n",
       "      <td>4</td>\n",
       "      <td>5</td>\n",
       "      <td>3</td>\n",
       "      <td>3</td>\n",
       "      <td>4</td>\n",
       "      <td>...</td>\n",
       "      <td>5</td>\n",
       "      <td>NaN</td>\n",
       "      <td>NaN</td>\n",
       "      <td>NaN</td>\n",
       "      <td>NaN</td>\n",
       "      <td>NaN</td>\n",
       "      <td>1</td>\n",
       "      <td>1</td>\n",
       "      <td>9</td>\n",
       "      <td>92115</td>\n",
       "    </tr>\n",
       "    <tr>\n",
       "      <th>2</th>\n",
       "      <td>3</td>\n",
       "      <td>4</td>\n",
       "      <td>3</td>\n",
       "      <td>4</td>\n",
       "      <td>4</td>\n",
       "      <td>4</td>\n",
       "      <td>5</td>\n",
       "      <td>4</td>\n",
       "      <td>4</td>\n",
       "      <td>4</td>\n",
       "      <td>...</td>\n",
       "      <td>1</td>\n",
       "      <td>NaN</td>\n",
       "      <td>NaN</td>\n",
       "      <td>NaN</td>\n",
       "      <td>NaN</td>\n",
       "      <td>NaN</td>\n",
       "      <td>1</td>\n",
       "      <td>1</td>\n",
       "      <td>9</td>\n",
       "      <td>92105</td>\n",
       "    </tr>\n",
       "    <tr>\n",
       "      <th>3</th>\n",
       "      <td>4</td>\n",
       "      <td>4</td>\n",
       "      <td>4</td>\n",
       "      <td>4</td>\n",
       "      <td>3</td>\n",
       "      <td>3</td>\n",
       "      <td>2</td>\n",
       "      <td>2</td>\n",
       "      <td>1</td>\n",
       "      <td>2</td>\n",
       "      <td>...</td>\n",
       "      <td>5</td>\n",
       "      <td>NaN</td>\n",
       "      <td>NaN</td>\n",
       "      <td>NaN</td>\n",
       "      <td>NaN</td>\n",
       "      <td>NaN</td>\n",
       "      <td>2</td>\n",
       "      <td>2</td>\n",
       "      <td>8</td>\n",
       "      <td>92102</td>\n",
       "    </tr>\n",
       "    <tr>\n",
       "      <th>4</th>\n",
       "      <td>5</td>\n",
       "      <td>5</td>\n",
       "      <td>5</td>\n",
       "      <td>5</td>\n",
       "      <td>4</td>\n",
       "      <td>5</td>\n",
       "      <td>5</td>\n",
       "      <td>5</td>\n",
       "      <td>5</td>\n",
       "      <td>4</td>\n",
       "      <td>...</td>\n",
       "      <td>3</td>\n",
       "      <td>NaN</td>\n",
       "      <td>NaN</td>\n",
       "      <td>NaN</td>\n",
       "      <td>NaN</td>\n",
       "      <td>NaN</td>\n",
       "      <td>2</td>\n",
       "      <td>2</td>\n",
       "      <td>4</td>\n",
       "      <td>92139</td>\n",
       "    </tr>\n",
       "  </tbody>\n",
       "</table>\n",
       "<p>5 rows × 119 columns</p>\n",
       "</div>"
      ],
      "text/plain": [
       "   Num  Q1_1  Q1_2  Q1_3  Q1_4  Q1_5  Q1_6  Q2_1  Q2_2  Q2_3  ...    Q25_1st  \\\n",
       "0    1     5     4     4     3     3     3     4     5     3  ...          3   \n",
       "1    2     5     5     9     3     4     5     3     3     4  ...          5   \n",
       "2    3     4     3     4     4     4     5     4     4     4  ...          1   \n",
       "3    4     4     4     4     3     3     2     2     1     2  ...          5   \n",
       "4    5     5     5     5     4     5     5     5     5     4  ...          3   \n",
       "\n",
       "   Q25_2nd  Q25_3rd  Q25_4th  Q25_5th  Q25_other  Q26  Q27  Q28    ZIP  \n",
       "0      NaN      NaN      NaN      NaN        NaN    2    2    7  92124  \n",
       "1      NaN      NaN      NaN      NaN        NaN    1    1    9  92115  \n",
       "2      NaN      NaN      NaN      NaN        NaN    1    1    9  92105  \n",
       "3      NaN      NaN      NaN      NaN        NaN    2    2    8  92102  \n",
       "4      NaN      NaN      NaN      NaN        NaN    2    2    4  92139  \n",
       "\n",
       "[5 rows x 119 columns]"
      ]
     },
     "execution_count": 41,
     "metadata": {},
     "output_type": "execute_result"
    }
   ],
   "source": [
    "#Original df\n",
    "df = pd.read_csv(\"resident_survey_weighted_datasd.csv\")\n",
    "\n",
    "#Create new df (data) that we will drop columns from\n",
    "data = pd.read_csv(\"resident_survey_weighted_datasd.csv\")\n",
    "\n",
    "data.head()"
   ]
  },
  {
   "cell_type": "code",
   "execution_count": 42,
   "metadata": {
    "collapsed": true
   },
   "outputs": [],
   "source": [
    "#Extract questions that ask residents to rate their satisfaction on a topic from 1-5\n",
    "data.drop(data.columns[99:], axis=1, inplace=True)\n",
    "data.drop(data.columns[0:7], axis=1, inplace=True)\n",
    "#data.head(5)\n",
    "\n",
    "data.drop(data.filter(like='Q4', axis=1), axis=1, inplace=True)\n",
    "data.drop(data.filter(like='Q5', axis=1), axis=1, inplace=True)\n",
    "data.drop(data.filter(like='Q10', axis=1), axis=1, inplace=True)\n",
    "#data.head(5)"
   ]
  },
  {
   "cell_type": "code",
   "execution_count": 43,
   "metadata": {},
   "outputs": [
    {
     "data": {
      "text/html": [
       "<div>\n",
       "<style>\n",
       "    .dataframe thead tr:only-child th {\n",
       "        text-align: right;\n",
       "    }\n",
       "\n",
       "    .dataframe thead th {\n",
       "        text-align: left;\n",
       "    }\n",
       "\n",
       "    .dataframe tbody tr th {\n",
       "        vertical-align: top;\n",
       "    }\n",
       "</style>\n",
       "<table border=\"1\" class=\"dataframe\">\n",
       "  <thead>\n",
       "    <tr style=\"text-align: right;\">\n",
       "      <th></th>\n",
       "      <th>Q2_1</th>\n",
       "      <th>Q2_2</th>\n",
       "      <th>Q2_3</th>\n",
       "      <th>Q2_4</th>\n",
       "      <th>Q2_5</th>\n",
       "      <th>Q2_6</th>\n",
       "      <th>Q2_7</th>\n",
       "      <th>Q3_1</th>\n",
       "      <th>Q3_2</th>\n",
       "      <th>Q3_3</th>\n",
       "      <th>...</th>\n",
       "      <th>Q14_10</th>\n",
       "      <th>Q14_11</th>\n",
       "      <th>Q14_12</th>\n",
       "      <th>Q14_13</th>\n",
       "      <th>Q14_14</th>\n",
       "      <th>Q14_15</th>\n",
       "      <th>Q15_2</th>\n",
       "      <th>Q15_3</th>\n",
       "      <th>Q15_4</th>\n",
       "      <th>ZIP</th>\n",
       "    </tr>\n",
       "  </thead>\n",
       "  <tbody>\n",
       "    <tr>\n",
       "      <th>0</th>\n",
       "      <td>4.0</td>\n",
       "      <td>5.0</td>\n",
       "      <td>3.0</td>\n",
       "      <td>3.0</td>\n",
       "      <td>4.0</td>\n",
       "      <td>3.0</td>\n",
       "      <td>3.0</td>\n",
       "      <td>4.0</td>\n",
       "      <td>4.0</td>\n",
       "      <td>3.0</td>\n",
       "      <td>...</td>\n",
       "      <td>3.0</td>\n",
       "      <td>4.0</td>\n",
       "      <td>NaN</td>\n",
       "      <td>NaN</td>\n",
       "      <td>3.0</td>\n",
       "      <td>4.0</td>\n",
       "      <td>4.0</td>\n",
       "      <td>4.0</td>\n",
       "      <td>4.0</td>\n",
       "      <td>92124</td>\n",
       "    </tr>\n",
       "    <tr>\n",
       "      <th>1</th>\n",
       "      <td>3.0</td>\n",
       "      <td>3.0</td>\n",
       "      <td>4.0</td>\n",
       "      <td>4.0</td>\n",
       "      <td>5.0</td>\n",
       "      <td>5.0</td>\n",
       "      <td>5.0</td>\n",
       "      <td>3.0</td>\n",
       "      <td>4.0</td>\n",
       "      <td>5.0</td>\n",
       "      <td>...</td>\n",
       "      <td>3.0</td>\n",
       "      <td>4.0</td>\n",
       "      <td>3.0</td>\n",
       "      <td>2.0</td>\n",
       "      <td>3.0</td>\n",
       "      <td>5.0</td>\n",
       "      <td>4.0</td>\n",
       "      <td>5.0</td>\n",
       "      <td>4.0</td>\n",
       "      <td>92115</td>\n",
       "    </tr>\n",
       "    <tr>\n",
       "      <th>2</th>\n",
       "      <td>4.0</td>\n",
       "      <td>4.0</td>\n",
       "      <td>4.0</td>\n",
       "      <td>3.0</td>\n",
       "      <td>3.0</td>\n",
       "      <td>4.0</td>\n",
       "      <td>3.0</td>\n",
       "      <td>3.0</td>\n",
       "      <td>4.0</td>\n",
       "      <td>4.0</td>\n",
       "      <td>...</td>\n",
       "      <td>5.0</td>\n",
       "      <td>5.0</td>\n",
       "      <td>5.0</td>\n",
       "      <td>3.0</td>\n",
       "      <td>4.0</td>\n",
       "      <td>4.0</td>\n",
       "      <td>4.0</td>\n",
       "      <td>4.0</td>\n",
       "      <td>5.0</td>\n",
       "      <td>92105</td>\n",
       "    </tr>\n",
       "    <tr>\n",
       "      <th>3</th>\n",
       "      <td>2.0</td>\n",
       "      <td>1.0</td>\n",
       "      <td>2.0</td>\n",
       "      <td>4.0</td>\n",
       "      <td>4.0</td>\n",
       "      <td>4.0</td>\n",
       "      <td>2.0</td>\n",
       "      <td>4.0</td>\n",
       "      <td>3.0</td>\n",
       "      <td>3.0</td>\n",
       "      <td>...</td>\n",
       "      <td>2.0</td>\n",
       "      <td>4.0</td>\n",
       "      <td>4.0</td>\n",
       "      <td>2.0</td>\n",
       "      <td>3.0</td>\n",
       "      <td>3.0</td>\n",
       "      <td>4.0</td>\n",
       "      <td>3.0</td>\n",
       "      <td>3.0</td>\n",
       "      <td>92102</td>\n",
       "    </tr>\n",
       "    <tr>\n",
       "      <th>4</th>\n",
       "      <td>5.0</td>\n",
       "      <td>5.0</td>\n",
       "      <td>4.0</td>\n",
       "      <td>4.0</td>\n",
       "      <td>4.0</td>\n",
       "      <td>4.0</td>\n",
       "      <td>3.0</td>\n",
       "      <td>4.0</td>\n",
       "      <td>4.0</td>\n",
       "      <td>3.0</td>\n",
       "      <td>...</td>\n",
       "      <td>4.0</td>\n",
       "      <td>3.0</td>\n",
       "      <td>3.0</td>\n",
       "      <td>3.0</td>\n",
       "      <td>4.0</td>\n",
       "      <td>3.0</td>\n",
       "      <td>3.0</td>\n",
       "      <td>3.0</td>\n",
       "      <td>3.0</td>\n",
       "      <td>92139</td>\n",
       "    </tr>\n",
       "    <tr>\n",
       "      <th>5</th>\n",
       "      <td>5.0</td>\n",
       "      <td>5.0</td>\n",
       "      <td>5.0</td>\n",
       "      <td>5.0</td>\n",
       "      <td>5.0</td>\n",
       "      <td>5.0</td>\n",
       "      <td>5.0</td>\n",
       "      <td>5.0</td>\n",
       "      <td>5.0</td>\n",
       "      <td>5.0</td>\n",
       "      <td>...</td>\n",
       "      <td>5.0</td>\n",
       "      <td>5.0</td>\n",
       "      <td>5.0</td>\n",
       "      <td>5.0</td>\n",
       "      <td>5.0</td>\n",
       "      <td>5.0</td>\n",
       "      <td>5.0</td>\n",
       "      <td>5.0</td>\n",
       "      <td>5.0</td>\n",
       "      <td>92101</td>\n",
       "    </tr>\n",
       "    <tr>\n",
       "      <th>7</th>\n",
       "      <td>4.0</td>\n",
       "      <td>4.0</td>\n",
       "      <td>4.0</td>\n",
       "      <td>4.0</td>\n",
       "      <td>4.0</td>\n",
       "      <td>4.0</td>\n",
       "      <td>4.0</td>\n",
       "      <td>4.0</td>\n",
       "      <td>4.0</td>\n",
       "      <td>4.0</td>\n",
       "      <td>...</td>\n",
       "      <td>4.0</td>\n",
       "      <td>4.0</td>\n",
       "      <td>4.0</td>\n",
       "      <td>4.0</td>\n",
       "      <td>4.0</td>\n",
       "      <td>4.0</td>\n",
       "      <td>4.0</td>\n",
       "      <td>4.0</td>\n",
       "      <td>4.0</td>\n",
       "      <td>92131</td>\n",
       "    </tr>\n",
       "    <tr>\n",
       "      <th>8</th>\n",
       "      <td>4.0</td>\n",
       "      <td>4.0</td>\n",
       "      <td>3.0</td>\n",
       "      <td>4.0</td>\n",
       "      <td>5.0</td>\n",
       "      <td>4.0</td>\n",
       "      <td>4.0</td>\n",
       "      <td>4.0</td>\n",
       "      <td>4.0</td>\n",
       "      <td>4.0</td>\n",
       "      <td>...</td>\n",
       "      <td>3.0</td>\n",
       "      <td>4.0</td>\n",
       "      <td>NaN</td>\n",
       "      <td>3.0</td>\n",
       "      <td>2.0</td>\n",
       "      <td>4.0</td>\n",
       "      <td>4.0</td>\n",
       "      <td>4.0</td>\n",
       "      <td>4.0</td>\n",
       "      <td>92117</td>\n",
       "    </tr>\n",
       "    <tr>\n",
       "      <th>9</th>\n",
       "      <td>4.0</td>\n",
       "      <td>3.0</td>\n",
       "      <td>2.0</td>\n",
       "      <td>4.0</td>\n",
       "      <td>3.0</td>\n",
       "      <td>3.0</td>\n",
       "      <td>1.0</td>\n",
       "      <td>3.0</td>\n",
       "      <td>4.0</td>\n",
       "      <td>3.0</td>\n",
       "      <td>...</td>\n",
       "      <td>3.0</td>\n",
       "      <td>3.0</td>\n",
       "      <td>1.0</td>\n",
       "      <td>3.0</td>\n",
       "      <td>2.0</td>\n",
       "      <td>2.0</td>\n",
       "      <td>3.0</td>\n",
       "      <td>2.0</td>\n",
       "      <td>1.0</td>\n",
       "      <td>92114</td>\n",
       "    </tr>\n",
       "    <tr>\n",
       "      <th>10</th>\n",
       "      <td>4.0</td>\n",
       "      <td>3.0</td>\n",
       "      <td>2.0</td>\n",
       "      <td>4.0</td>\n",
       "      <td>3.0</td>\n",
       "      <td>3.0</td>\n",
       "      <td>1.0</td>\n",
       "      <td>3.0</td>\n",
       "      <td>4.0</td>\n",
       "      <td>3.0</td>\n",
       "      <td>...</td>\n",
       "      <td>3.0</td>\n",
       "      <td>3.0</td>\n",
       "      <td>1.0</td>\n",
       "      <td>3.0</td>\n",
       "      <td>2.0</td>\n",
       "      <td>2.0</td>\n",
       "      <td>3.0</td>\n",
       "      <td>2.0</td>\n",
       "      <td>1.0</td>\n",
       "      <td>92114</td>\n",
       "    </tr>\n",
       "  </tbody>\n",
       "</table>\n",
       "<p>10 rows × 85 columns</p>\n",
       "</div>"
      ],
      "text/plain": [
       "    Q2_1  Q2_2  Q2_3  Q2_4  Q2_5  Q2_6  Q2_7  Q3_1  Q3_2  Q3_3  ...    Q14_10  \\\n",
       "0    4.0   5.0   3.0   3.0   4.0   3.0   3.0   4.0   4.0   3.0  ...       3.0   \n",
       "1    3.0   3.0   4.0   4.0   5.0   5.0   5.0   3.0   4.0   5.0  ...       3.0   \n",
       "2    4.0   4.0   4.0   3.0   3.0   4.0   3.0   3.0   4.0   4.0  ...       5.0   \n",
       "3    2.0   1.0   2.0   4.0   4.0   4.0   2.0   4.0   3.0   3.0  ...       2.0   \n",
       "4    5.0   5.0   4.0   4.0   4.0   4.0   3.0   4.0   4.0   3.0  ...       4.0   \n",
       "5    5.0   5.0   5.0   5.0   5.0   5.0   5.0   5.0   5.0   5.0  ...       5.0   \n",
       "7    4.0   4.0   4.0   4.0   4.0   4.0   4.0   4.0   4.0   4.0  ...       4.0   \n",
       "8    4.0   4.0   3.0   4.0   5.0   4.0   4.0   4.0   4.0   4.0  ...       3.0   \n",
       "9    4.0   3.0   2.0   4.0   3.0   3.0   1.0   3.0   4.0   3.0  ...       3.0   \n",
       "10   4.0   3.0   2.0   4.0   3.0   3.0   1.0   3.0   4.0   3.0  ...       3.0   \n",
       "\n",
       "    Q14_11  Q14_12  Q14_13  Q14_14  Q14_15  Q15_2  Q15_3  Q15_4    ZIP  \n",
       "0      4.0     NaN     NaN     3.0     4.0    4.0    4.0    4.0  92124  \n",
       "1      4.0     3.0     2.0     3.0     5.0    4.0    5.0    4.0  92115  \n",
       "2      5.0     5.0     3.0     4.0     4.0    4.0    4.0    5.0  92105  \n",
       "3      4.0     4.0     2.0     3.0     3.0    4.0    3.0    3.0  92102  \n",
       "4      3.0     3.0     3.0     4.0     3.0    3.0    3.0    3.0  92139  \n",
       "5      5.0     5.0     5.0     5.0     5.0    5.0    5.0    5.0  92101  \n",
       "7      4.0     4.0     4.0     4.0     4.0    4.0    4.0    4.0  92131  \n",
       "8      4.0     NaN     3.0     2.0     4.0    4.0    4.0    4.0  92117  \n",
       "9      3.0     1.0     3.0     2.0     2.0    3.0    2.0    1.0  92114  \n",
       "10     3.0     1.0     3.0     2.0     2.0    3.0    2.0    1.0  92114  \n",
       "\n",
       "[10 rows x 85 columns]"
      ]
     },
     "execution_count": 43,
     "metadata": {},
     "output_type": "execute_result"
    }
   ],
   "source": [
    "#Find total surveys submitted per zip code\n",
    "total_zip = pd.DataFrame(df['ZIP'].value_counts())\n",
    "\n",
    "#Only keep zipcodes who submitted more than 20 surveys\n",
    "total_zip = total_zip[total_zip['ZIP'] > 20]\n",
    "\n",
    "#Convert total_zip to a dataframe, tell me if yall know a better way to do this\n",
    "total_zip.index.name = 'x'\n",
    "total_zip.reset_index(inplace=True)\n",
    "total_zip.columns = ['ZIP', 'count']\n",
    "\n",
    "#Add zipcode column back into data\n",
    "data['ZIP'] = df['ZIP']\n",
    "\n",
    "#Drop all rows whose zipcode has <20 surveys\n",
    "data = data[data['ZIP'].isin(total_zip['ZIP'])].dropna()\n",
    "\n",
    "#Convert 9s (meaning \"don't know\") to NaNs\n",
    "data.replace(9, np.nan, inplace=True)\n",
    "\n",
    "data.head(10)\n"
   ]
  },
  {
   "cell_type": "code",
   "execution_count": 44,
   "metadata": {},
   "outputs": [
    {
     "name": "stdout",
     "output_type": "stream",
     "text": [
      "Q14_3     2.305689\n",
      "Q3_8      2.393837\n",
      "Q8_3      2.432886\n",
      "Q14_14    2.565351\n",
      "Q8_10     2.578723\n",
      "Q14_4     2.584436\n",
      "Q8_4      2.633361\n",
      "Q14_5     2.645178\n",
      "Q14_6     2.692648\n",
      "Q14_2     2.694984\n",
      "dtype: float64\n"
     ]
    }
   ],
   "source": [
    "#Get bottom 10 questions with lowest avg rating per zipcode\n",
    "mean = data.mean()\n",
    "bottom_10 = mean.nsmallest(n=10, keep='first')\n",
    "print(bottom_10)"
   ]
  },
  {
   "cell_type": "code",
   "execution_count": 45,
   "metadata": {
    "collapsed": true
   },
   "outputs": [],
   "source": [
    "#Read in survey questions\n",
    "questions = pd.read_csv(\"resident_survey_dictionary_datasd.csv\")"
   ]
  },
  {
   "cell_type": "code",
   "execution_count": 46,
   "metadata": {},
   "outputs": [
    {
     "name": "stdout",
     "output_type": "stream",
     "text": [
      "95    Ease of obtaining permits from Development Ser...\n",
      "Name: question_text, dtype: object 23    Maintenance of City streets, sidewalks, and in...\n",
      "Name: question_text, dtype: object 54    Condition and maintenance of City streets\n",
      "Name: question_text, dtype: object 106    Quality/variety of entertainment, expositions,...\n",
      "Name: question_text, dtype: object 96    Efforts to address homelessness\n",
      "Name: question_text, dtype: object 61    Quality of street repairs\n",
      "Name: question_text, dtype: object 55    Condition and maintenance of streets in YOUR n...\n",
      "Name: question_text, dtype: object 97    Efforts to assist low- to moderate-income resi...\n",
      "Name: question_text, dtype: object 98    Efforts to plan for future growth\n",
      "Name: question_text, dtype: object 94    Code enforcement\n",
      "Name: question_text, dtype: object 93    Blight (rundown buildings, vacant lots, and ab...\n",
      "Name: question_text, dtype: object\n"
     ]
    }
   ],
   "source": [
    "#Locate the questions\n",
    "Q1 = (questions.loc[questions['question_number']=='Q14_3'])['question_text']\n",
    "Q2 = (questions.loc[questions['question_number']=='Q3_8'])['question_text']\n",
    "Q3 = (questions.loc[questions['question_number']=='Q8_3'])['question_text']\n",
    "Q4 = (questions.loc[questions['question_number']=='Q14_14'])['question_text']\n",
    "Q5 = (questions.loc[questions['question_number']=='Q14_4'])['question_text']\n",
    "Q6 = (questions.loc[questions['question_number']=='Q8_10'])['question_text']\n",
    "Q7 = (questions.loc[questions['question_number']=='Q8_4'])['question_text']\n",
    "Q8 = (questions.loc[questions['question_number']=='Q14_5'])['question_text']\n",
    "Q9 = (questions.loc[questions['question_number']=='Q14_6'])['question_text']\n",
    "Q10 = (questions.loc[questions['question_number']=='Q14_2'])['question_text']\n",
    "Q11 = (questions.loc[questions['question_number']=='Q14_1'])['question_text']\n",
    "\n",
    "\n",
    "print(Q1,Q2,Q3,Q4,Q5,Q6,Q7,Q8,Q9,Q10,Q11)"
   ]
  },
  {
   "cell_type": "markdown",
   "metadata": {},
   "source": [
    "## Factor #1: Street and road conditions\n",
    "\n",
    "Out of the 10 questions with the lowest satisfaction scores, 4 of them concerned street and road conditions, specifically the condition, maintenance and repairs. We plotted the average rating (on a scale from 1 to 5) with the the average house price associated with the respondent in order to determine any correlation between their level of satisfaction and their income level."
   ]
  },
  {
   "cell_type": "code",
   "execution_count": 47,
   "metadata": {
    "collapsed": true
   },
   "outputs": [],
   "source": [
    "#Extract street questions and zipcodes out of the top 10 \n",
    "street_qs = data[['Q8_3', 'Q3_8', 'Q8_4', 'Q8_10', 'ZIP']]\n",
    "#street_qs"
   ]
  },
  {
   "cell_type": "code",
   "execution_count": 48,
   "metadata": {},
   "outputs": [
    {
     "name": "stdout",
     "output_type": "stream",
     "text": [
      "-0.0230259370077 0.0239241554051 0.0637451054119 -0.0297640459463\n"
     ]
    }
   ],
   "source": [
    "#Add avg house prices 2017-09 data to ratings data\n",
    "rating_and_price = avg_ratings_per_zip.merge(avg_house_prices, left_on='ZIP', right_on='RegionName')\n",
    "\n",
    "#Compute correlation between avg rating and avg house price for each question\n",
    "Q8_3_corr = rating_and_price['Q8_3'].corr(rating_and_price['2017-09'])\n",
    "Q3_8_corr = rating_and_price['Q3_8'].corr(rating_and_price['2017-09'])\n",
    "Q8_4_corr = rating_and_price['Q8_4'].corr(rating_and_price['2017-09'])\n",
    "Q8_10_corr = rating_and_price['Q8_10'].corr(rating_and_price['2017-09'])\n",
    "\n",
    "print(Q8_3_corr,Q3_8_corr,Q8_4_corr,Q8_10_corr)"
   ]
  },
  {
   "cell_type": "markdown",
   "metadata": {},
   "source": [
    "Our initial data analysis computes the Pearson correlation coefficient between lowest question that concern streets's average rating and average housing price. With coefficient values not close to 1 or -1, we initially conclude that there is no significant correlation between the resident's income and satisfaction level."
   ]
  },
  {
   "cell_type": "code",
   "execution_count": 49,
   "metadata": {
    "collapsed": true
   },
   "outputs": [],
   "source": [
    "#Find average rating on all questions for each zip code\n",
    "\n",
    "avg_ratings_per_zip = street_qs.groupby('ZIP', as_index=False).mean()\n",
    "#\n",
    "\n",
    "#FOR GEOGRAPH: Extract 5 zipcodes with lowest average rating\n",
    "lowest_q83 = avg_ratings_per_zip.nsmallest(n=5, columns='Q8_3',keep='first')[['ZIP','Q8_3']]\n",
    "lowest_q38 = avg_ratings_per_zip.nsmallest(n=5, columns='Q3_8',keep='first')[['ZIP','Q3_8']]\n",
    "lowest_q84 = avg_ratings_per_zip.nsmallest(n=5, columns='Q8_4',keep='first')[['ZIP','Q8_4']]\n",
    "lowest_q810 = avg_ratings_per_zip.nsmallest(n=5, columns='Q8_10',keep='first')[['ZIP','Q8_10']]\n",
    "\n",
    "\n",
    "#avg_ratings_per_zip.head()"
   ]
  },
  {
   "cell_type": "code",
   "execution_count": 50,
   "metadata": {},
   "outputs": [
    {
     "data": {
      "text/plain": [
       "Text(0.5,1,'Satisfaction with Condition/Maintenance of SD Streets vs. Avg House Price')"
      ]
     },
     "execution_count": 50,
     "metadata": {},
     "output_type": "execute_result"
    },
    {
     "data": {
      "image/png": "[encoded data removed]",
      "text/plain": [
       "<matplotlib.figure.Figure at 0x1c1803c208>"
      ]
     },
     "metadata": {},
     "output_type": "display_data"
    }
   ],
   "source": [
    "#Plot scatterplot of avg rating vs avg house price\n",
    "Q8_3_scatter = plt.scatter(rating_and_price['Q8_3'], rating_and_price['2017-09'], c='blue')\n",
    "plt.xlabel('Average Rating (Scale of 1-5)')\n",
    "plt.ylabel('Average House Price ($1,000)')\n",
    "plt.title('Satisfaction with Condition/Maintenance of SD Streets vs. Avg House Price')"
   ]
  },
  {
   "cell_type": "code",
   "execution_count": 51,
   "metadata": {},
   "outputs": [
    {
     "data": {
      "text/plain": [
       "Text(0.5,1,'Satisfaction with Maintenance of SD Streets/Sidewalks/Infrastructure vs Avg House Price')"
      ]
     },
     "execution_count": 51,
     "metadata": {},
     "output_type": "execute_result"
    },
    {
     "data": {
      "image/png": "[encoded data removed]",
      "text/plain": [
       "<matplotlib.figure.Figure at 0x1c1b1f4c88>"
      ]
     },
     "metadata": {},
     "output_type": "display_data"
    }
   ],
   "source": [
    "Q3_8_scatter = plt.scatter(rating_and_price['Q3_8'], rating_and_price['2017-09'], c='blue')\n",
    "plt.xlabel('Average Rating (Scale of 1-5)')\n",
    "plt.ylabel('Average House Price ($1,000)')\n",
    "plt.title('Satisfaction with Maintenance of SD Streets/Sidewalks/Infrastructure vs Avg House Price')"
   ]
  },
  {
   "cell_type": "code",
   "execution_count": 52,
   "metadata": {},
   "outputs": [
    {
     "data": {
      "text/plain": [
       "Text(0.5,1,'Satisfaction with Condition/maintenance of streets in YOUR neighborhood vs. Average House Price')"
      ]
     },
     "execution_count": 52,
     "metadata": {},
     "output_type": "execute_result"
    },
    {
     "data": {
      "image/png": "[encoded data removed]",
      "text/plain": [
       "<matplotlib.figure.Figure at 0x1c17f67ef0>"
      ]
     },
     "metadata": {},
     "output_type": "display_data"
    }
   ],
   "source": [
    "Q8_4_scatter = plt.scatter(rating_and_price['Q8_4'], rating_and_price['2017-09'], c='blue')\n",
    "plt.xlabel('Average Rating (Scale of 1-5)')\n",
    "plt.ylabel('Average House Price ($1,000)')\n",
    "plt.title('Satisfaction with Condition/maintenance of streets in YOUR neighborhood vs. Average House Price')"
   ]
  },
  {
   "cell_type": "code",
   "execution_count": 53,
   "metadata": {},
   "outputs": [
    {
     "data": {
      "text/plain": [
       "Text(0.5,1,'Satisfaction with Quality of street repairs vs. Avg House Price')"
      ]
     },
     "execution_count": 53,
     "metadata": {},
     "output_type": "execute_result"
    },
    {
     "data": {
      "image/png": "[encoded data removed]",
      "text/plain": [
       "<matplotlib.figure.Figure at 0x1c1b783a20>"
      ]
     },
     "metadata": {},
     "output_type": "display_data"
    }
   ],
   "source": [
    "Q8_10_scatter = plt.scatter(rating_and_price['Q8_10'], rating_and_price['2017-09'], c='blue')\n",
    "plt.xlabel('Average Rating (Scale of 1-5)')\n",
    "plt.ylabel('Average House Price ($1,000)')\n",
    "plt.title('Satisfaction with Quality of street repairs vs. Avg House Price')"
   ]
  },
  {
   "cell_type": "code",
   "execution_count": null,
   "metadata": {
    "collapsed": true
   },
   "outputs": [],
   "source": []
  },
  {
   "cell_type": "code",
   "execution_count": 61,
   "metadata": {},
   "outputs": [
    {
     "data": {
      "text/html": [
       "<script type='text/javascript' src='https://us-west-2b.online.tableau.com/javascripts/api/viz_v1.js'></script><div class='tableauPlaceholder' style='width: 1280px; height: 525px;'><object class='tableauViz' width='1280' height='525' style='display:none;'><param name='host_url' value='https%3A%2F%2Fus-west-2b.online.tableau.com%2F' /> <param name='embed_code_version' value='3' /> <param name='site_root' value='&#47;t&#47;cogs108' /><param name='name' value='avg_ratings_geomaps&#47;2015HousePrices' /><param name='tabs' value='yes' /><param name='toolbar' value='yes' /><param name='showAppBanner' value='false' /><param name='filter' value='iframeSizedToWindow=true' /></object></div>"
      ],
      "text/plain": [
       "<IPython.core.display.HTML object>"
      ]
     },
     "metadata": {},
     "output_type": "display_data"
    }
   ],
   "source": [
    "%%HTML\n",
    "<script type='text/javascript'src='https://us-west-2b.online.tableau.com/javascripts/api/viz_v1.js'></script><div class='tableauPlaceholder' style='width: 1280px; height: 525px;'><object class='tableauViz' width='1280' height='525' style='display:none;'><param name='host_url' value='https%3A%2F%2Fus-west-2b.online.tableau.com%2F' /> <param name='embed_code_version' value='3' /> <param name='site_root' value='&#47;t&#47;cogs108' /><param name='name' value='avg_ratings_geomaps&#47;2015HousePrices' /><param name='tabs' value='yes' /><param name='toolbar' value='yes' /><param name='showAppBanner' value='false' /><param name='filter' value='iframeSizedToWindow=true' /></object></div>"
   ]
  },
  {
   "cell_type": "markdown",
   "metadata": {},
   "source": [
    "# Results\n",
    "Through both our mathematical and visual analysis of data correlation, we see that there is none between the income level and the level of satisfaction residents have about their street conditions. This is perhaps because the prevalence of deteriorated and poor road conditions is so widespread that it affects a wide number of commuter in San Diego, not exclusively to just low-income neighborhoods."
   ]
  },
  {
   "cell_type": "markdown",
   "metadata": {},
   "source": [
    "# Factor #2: Efforts to help and assist homelessness and low- to moderate-income residents\n",
    "Two other questions that stood out to us in terms of resident disatisfaction is concerning the City of San Diego's efforts to address homelessness and assist low- to moderate-income residents. We coupled these two questions together since they both concern the communities that are usually underserved. After seeing no correlation between how a resident's income level and their level of satisfaction with their road conditions, we predicted that there would be a positive correlation between how satisfied a resident is about the city's efforts to assist the underserved and their income. This would mean that residents with lower-income would be more dissatisfied about the city's efforts to assist their communities or homelessness."
   ]
  },
  {
   "cell_type": "code",
   "execution_count": 56,
   "metadata": {},
   "outputs": [
    {
     "name": "stdout",
     "output_type": "stream",
     "text": [
      "      ZIP     Q14_4\n",
      "10  92110  1.844444\n",
      "15  92116  2.097561\n",
      "9   92109  2.181818\n",
      "2   92102  2.193548\n",
      "6   92106  2.222222       ZIP     Q14_5\n",
      "8   92108  2.285714\n",
      "15  92116  2.304348\n",
      "10  92110  2.317073\n",
      "3   92103  2.358974\n",
      "11  92111  2.405063\n"
     ]
    }
   ],
   "source": [
    "#Extract Q14_4 and Q_14_5 (Efforts to address homelessness and Efforts to assist low- to moderate-income residents and communities)\n",
    "low_income = data[['Q14_4', 'Q14_5', 'ZIP']]\n",
    "\n",
    "avg_ratings = low_income.groupby('ZIP', as_index=False).mean()\n",
    "lowest_q144 = avg_ratings.nsmallest(n=5, columns='Q14_4',keep='first')[['ZIP','Q14_4']]\n",
    "lowest_q145 = avg_ratings.nsmallest(n=5, columns='Q14_5',keep='first')[['ZIP','Q14_5']]\n",
    "print(lowest_q144, lowest_q145)"
   ]
  },
  {
   "cell_type": "code",
   "execution_count": 57,
   "metadata": {},
   "outputs": [
    {
     "name": "stdout",
     "output_type": "stream",
     "text": [
      "-0.205025499481 -0.254438483501\n"
     ]
    }
   ],
   "source": [
    "rating_price = avg_ratings.merge(avg_house_prices, left_on='ZIP', right_on='RegionName')\n",
    "#rating_price.head()\n",
    "#Compute correlation between avg rating and avg house price for each question\n",
    "Q14_4_corr = rating_price['Q14_4'].corr(rating_price['2015-01'])\n",
    "Q14_5_corr = rating_price['Q14_5'].corr(rating_price['2015-01'])\n",
    "\n",
    "print(Q14_4_corr, Q14_5_corr)"
   ]
  },
  {
   "cell_type": "markdown",
   "metadata": {},
   "source": [
    "Our initial pearson correlation analysis indicates that there is not a significant relationship between the average rating of satisfication, concerning efforts to assist the underserved, and the resident's income."
   ]
  },
  {
   "cell_type": "code",
   "execution_count": 58,
   "metadata": {},
   "outputs": [
    {
     "data": {
      "text/plain": [
       "Text(0.5,1,'Satisfaction with Efforts to Address Homelessness vs. Avg House Price')"
      ]
     },
     "execution_count": 58,
     "metadata": {},
     "output_type": "execute_result"
    },
    {
     "data": {
      "image/png": "[encoded data removed]",
      "text/plain": [
       "<matplotlib.figure.Figure at 0x1c1a54a128>"
      ]
     },
     "metadata": {},
     "output_type": "display_data"
    }
   ],
   "source": [
    "Q14_4_scatter = plt.scatter(rating_price['Q14_4'], rating_price['2015-01'], c='blue')\n",
    "plt.xlabel('Average Rating (Scale of 1-5)')\n",
    "plt.ylabel('Average House Price in 2015 (1,000)')\n",
    "plt.title('Satisfaction with Efforts to Address Homelessness vs. Avg House Price')"
   ]
  },
  {
   "cell_type": "code",
   "execution_count": 59,
   "metadata": {},
   "outputs": [
    {
     "data": {
      "text/plain": [
       "Text(0.5,1,'Satisfaction with Efforts to Assist Low to Moderate-Income Residents vs. Avg House Price')"
      ]
     },
     "execution_count": 59,
     "metadata": {},
     "output_type": "execute_result"
    },
    {
     "data": {
      "image/png": "[encoded data removed]",
      "text/plain": [
       "<matplotlib.figure.Figure at 0x10fc11f28>"
      ]
     },
     "metadata": {},
     "output_type": "display_data"
    }
   ],
   "source": [
    "Q14_5_scatter = plt.scatter(rating_price['Q14_5'], rating_price['2015-01'], c='blue')\n",
    "plt.xlabel('Average Rating (Scale of 1-5)')\n",
    "plt.ylabel('Average House Price in 2015 (1,000)')\n",
    "plt.title('Satisfaction with Efforts to Assist Low to Moderate-Income Residents vs. Avg House Price')"
   ]
  },
  {
   "cell_type": "markdown",
   "metadata": {},
   "source": [
    "# Results\n",
    "Through our correlation and visual data analysis, we conclude that while there some correlation between a resident's satisfaction with the city's efforts to assist the underserved and their income, surprisingly a negative one, it is not statistically significant to conclude any real relationship. This hint to a negative correlation indicates that there are some residents from higher-income backgrounds that are disatisfied with current SD County's programs and intitiatives to aid lower-income residents and communities."
   ]
  },
  {
   "cell_type": "code",
   "execution_count": null,
   "metadata": {
    "collapsed": true
   },
   "outputs": [],
   "source": []
  }
 ],
 "metadata": {
  "kernelspec": {
   "display_name": "Python 3",
   "language": "python",
   "name": "python3"
  },
  "language_info": {
   "codemirror_mode": {
    "name": "ipython",
    "version": 3
   },
   "file_extension": ".py",
   "mimetype": "text/x-python",
   "name": "python",
   "nbconvert_exporter": "python",
   "pygments_lexer": "ipython3",
   "version": "3.6.3"
  }
 },
 "nbformat": 4,
 "nbformat_minor": 2
}
