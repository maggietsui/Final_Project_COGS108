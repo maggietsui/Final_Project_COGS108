{
 "cells": [
  {
   "cell_type": "markdown",
   "metadata": {},
   "source": [
    "A91147501  \n",
    "A12108176  \n",
    "A12118052  \n",
    "\n",
    "# Introduction and Background\n",
    "In 2015, the City of San Diego conducted a resident satisfaction survey that assessed various aspects of living in San Diego. Residents provided an overall rating of the city of San Diego as a place to live as well as satisfaction ratings on specific city services and programs. \n",
    "\n",
    "By exploring these responses, we hope to find the most common causes of resident dissatisfaction and which neighborhoods they are most prominent in. As students of UC San Diego in the affluent La Jolla neighborhood, we have become accustomed to living inside a “bubble” of privilege, but as members of the community, we believe that uncovering these truths will be useful to future development plans for the university and the city.\n",
    "\n",
    "#### Research Question:\n",
    "What factors of living in San Diego contribute most to resident dissatisfaction? What kinds of neighborhoods are unsatisfactory, and why?\n",
    "\n",
    "#### Hypothesis:\n",
    "We predict that residents in communities with lower housing prices will have lower overall resident satisfaction. We hypothesize that factors such as the proximity to different resources and the maintenance of services the city provides correlate with resident satisfaction."
   ]
  },
  {
   "cell_type": "markdown",
   "metadata": {},
   "source": [
    "# Data Description\n",
    "\n",
    "<b>Name</b>: Resident Satisfaction Survey Results  \n",
    "<b>Link to the dataset:</b> https://data.sandiego.gov/datasets/resident-satisfaction-survey/  \n",
    "<b>Number of observations:</b> 2478  \n",
    "<b>Description:</b> This dataset contains the results of 2,478 surveys conducted on San Diego residents. The survey assessed satisfaction with the delivery of City programs, services, staff and preferences about how City officials should prioritize programs and services. Each survey contained 28 questions and the zip code of each respondent is provided.\n",
    "\n",
    "<b>Name:</b> Median Housing Prices by Zip Code  \n",
    "<b>Link to the dataset:</b> https://query.data.world/s/4YkmYcRnpcRqTmJ9qWn5KRALu157jX  \n",
    "<b>Description:</b> This dataset contains the monthly median housing prices of listings on Zillow, the leading online real estate database. "
   ]
  },
  {
   "cell_type": "code",
   "execution_count": 101,
   "metadata": {
    "collapsed": true
   },
   "outputs": [],
   "source": [
    "%matplotlib inline\n",
    "\n",
    "import numpy as np\n",
    "import pandas as pd\n",
    "import matplotlib.pyplot as plt\n",
    "\n",
    "import patsy\n",
    "import statsmodels.api as sm\n",
    "import scipy.stats as stats\n",
    "from scipy.stats import ttest_ind, chisquare, normaltest"
   ]
  },
  {
   "cell_type": "code",
   "execution_count": 102,
   "metadata": {},
   "outputs": [
    {
     "data": {
      "text/plain": [
       "79"
      ]
     },
     "execution_count": 102,
     "metadata": {},
     "output_type": "execute_result"
    }
   ],
   "source": [
    "#Read in income data\n",
    "avg_house_prices = pd.read_csv('https://query.data.world/s/4YkmYcRnpcRqTmJ9qWn5KRALu157jX')\n",
    "avg_house_prices = avg_house_prices[avg_house_prices['CountyName'] == 'San Diego'] \n",
    "\n",
    "#Extract zipcode, city, 2017-09 column\n",
    "avg_house_prices = avg_house_prices[['RegionName', 'City', '2017-09']]\n",
    "len(avg_house_prices)\n",
    "\n"
   ]
  },
  {
   "cell_type": "code",
   "execution_count": 103,
   "metadata": {},
   "outputs": [
    {
     "data": {
      "image/png": "[encoded data removed]",
      "text/plain": [
       "<matplotlib.figure.Figure at 0x1da8365c208>"
      ]
     },
     "metadata": {},
     "output_type": "display_data"
    }
   ],
   "source": [
    "#Plot histogram of avg house prices\n",
    "histogram = plt.hist(avg_house_prices['2017-09'], 50, edgecolor='black', facecolor='blue',normed=1)\n",
    "plt.xlabel('Average House Price ($1,000)')\n",
    "plt.ylabel('Frequency')\n",
    "plt.title('Average House Prices for San Diego by Zip Code')\n",
    "\n",
    "f1 = plt.gcf()"
   ]
  },
  {
   "cell_type": "code",
   "execution_count": 104,
   "metadata": {
    "collapsed": true
   },
   "outputs": [],
   "source": [
    "#Original df\n",
    "df = pd.read_csv(\"resident_survey_weighted_datasd.csv\")\n",
    "\n",
    "#Create new df (data) that we will drop columns from\n",
    "data = pd.read_csv(\"resident_survey_weighted_datasd.csv\")\n"
   ]
  },
  {
   "cell_type": "code",
   "execution_count": 105,
   "metadata": {
    "collapsed": true
   },
   "outputs": [],
   "source": [
    "#Extract questions that ask residents to rate their satisfaction on a topic from 1-5\n",
    "data.drop(data.columns[99:], axis=1, inplace=True)\n",
    "data.drop(data.columns[0:7], axis=1, inplace=True)\n",
    "#data.head(5)\n",
    "\n",
    "data.drop(data.filter(like='Q4', axis=1), axis=1, inplace=True)\n",
    "data.drop(data.filter(like='Q5', axis=1), axis=1, inplace=True)\n",
    "data.drop(data.filter(like='Q10', axis=1), axis=1, inplace=True)\n",
    "#data.head(5)"
   ]
  },
  {
   "cell_type": "code",
   "execution_count": 106,
   "metadata": {
    "collapsed": true
   },
   "outputs": [],
   "source": [
    "#Find total surveys submitted per zip code\n",
    "total_zip = pd.DataFrame(df['ZIP'].value_counts())\n",
    "\n",
    "#Only keep zipcodes who submitted more than 20 surveys\n",
    "#total_zip = total_zip[total_zip['ZIP'] > 20]\n",
    "\n",
    "#Convert total_zip to a dataframe, tell me if yall know a better way to do this\n",
    "total_zip.index.name = 'x'\n",
    "total_zip.reset_index(inplace=True)\n",
    "total_zip.columns = ['ZIP', 'count']\n",
    "\n",
    "#Add zipcode column back into data\n",
    "data['ZIP'] = df['ZIP']\n",
    "\n",
    "#Drop all rows whose zipcode has <20 surveys\n",
    "data = data[data['ZIP'].isin(total_zip['ZIP'])].dropna()\n",
    "\n"
   ]
  },
  {
   "cell_type": "code",
   "execution_count": 107,
   "metadata": {
    "collapsed": true
   },
   "outputs": [],
   "source": [
    "#Find 20 questions with the lowest average rating\n",
    "mean = data.mean()\n",
    "bottom_20 = mean.nsmallest(n=20, keep='first')\n",
    "#print(bottom_20)\n"
   ]
  },
  {
   "cell_type": "code",
   "execution_count": 108,
   "metadata": {
    "collapsed": true
   },
   "outputs": [],
   "source": [
    "#Read in survey questions\n",
    "questions = pd.read_csv(\"resident_survey_dictionary_datasd.csv\")\n",
    "#questions.head(5)\n"
   ]
  },
  {
   "cell_type": "code",
   "execution_count": 109,
   "metadata": {},
   "outputs": [
    {
     "name": "stdout",
     "output_type": "stream",
     "text": [
      "54    Condition and maintenance of City streets\n",
      "Name: question_text, dtype: object 23    Maintenance of City streets, sidewalks, and in...\n",
      "Name: question_text, dtype: object 55    Condition and maintenance of streets in YOUR n...\n",
      "Name: question_text, dtype: object 61    Quality of street repairs\n",
      "Name: question_text, dtype: object 106    Quality/variety of entertainment, expositions,...\n",
      "Name: question_text, dtype: object 58    Condition of sidewalks in the City\n",
      "Name: question_text, dtype: object 14    Value that you receive for your City tax dolla...\n",
      "Name: question_text, dtype: object 59    Condition of sidewalks in YOUR neighborhood\n",
      "Name: question_text, dtype: object 95    Ease of obtaining permits from Development Ser...\n",
      "Name: question_text, dtype: object 60    Efforts to keep streets clean (i.e., street sw...\n",
      "Name: question_text, dtype: object 53    Availability of street lights in YOUR neighbor...\n",
      "Name: question_text, dtype: object 13    Quality of services provided by the City\n",
      "Name: question_text, dtype: object 56    Condition of bike lanes, paths, racks, and signs\n",
      "Name: question_text, dtype: object 10    Financial stability of the City government\n",
      "Name: question_text, dtype: object 42    The visibility of police in your neighborhood\n",
      "Name: question_text, dtype: object 17    Communication with the public\n",
      "Name: question_text, dtype: object 24    Parks and recreation programs and facilities\n",
      "Name: question_text, dtype: object 57    Condition of City buildings (e.g., libraries a...\n",
      "Name: question_text, dtype: object 29    Sustainability efforts by the City to help pre...\n",
      "Name: question_text, dtype: object Series([], Name: question_text, dtype: object)\n"
     ]
    }
   ],
   "source": [
    "#Locate questions \n",
    "Q1 = (questions.loc[questions['question_number']=='Q8_3'])['question_text']\n",
    "Q2 = (questions.loc[questions['question_number']=='Q3_8'])['question_text']\n",
    "Q3 = (questions.loc[questions['question_number']=='Q8_4'])['question_text']\n",
    "Q4 = (questions.loc[questions['question_number']=='Q8_10'])['question_text']\n",
    "Q5 = (questions.loc[questions['question_number']=='Q14_14'])['question_text']\n",
    "Q6 = (questions.loc[questions['question_number']=='Q8_7'])['question_text']\n",
    "Q7 = (questions.loc[questions['question_number']=='Q2_7'])['question_text']\n",
    "Q8 = (questions.loc[questions['question_number']=='Q8_8'])['question_text']\n",
    "Q9 = (questions.loc[questions['question_number']=='Q14_3'])['question_text']\n",
    "Q10 = (questions.loc[questions['question_number']=='Q8_9'])['question_text']\n",
    "Q11 = (questions.loc[questions['question_number']=='Q8_2'])['question_text']\n",
    "Q12 = (questions.loc[questions['question_number']=='Q2_6'])['question_text']\n",
    "Q13 = (questions.loc[questions['question_number']=='Q8_5'])['question_text']\n",
    "Q14 = (questions.loc[questions['question_number']=='Q2_3'])['question_text']\n",
    "Q15 = (questions.loc[questions['question_number']=='Q6_5'])['question_text']\n",
    "Q16 = (questions.loc[questions['question_number']=='Q3_2'])['question_text']\n",
    "Q17 = (questions.loc[questions['question_number']=='Q3_9'])['question_text']\n",
    "Q18 = (questions.loc[questions['question_number']=='Q8_6'])['question_text']\n",
    "Q19 = (questions.loc[questions['question_number']=='Q3_14'])['question_text']\n",
    "Q20 = (questions.loc[questions['question_number']=='Q6_4 '])['question_text']\n",
    "\n",
    "print(Q1,Q2,Q3,Q4,Q5,Q6,Q7,Q8,Q9,Q10,Q11,Q12,Q13,Q14,Q15,Q16,Q17,Q18,Q19,Q20)"
   ]
  },
  {
   "cell_type": "code",
   "execution_count": 110,
   "metadata": {
    "collapsed": true
   },
   "outputs": [],
   "source": [
    "#Extract Q8_3 (Condition and maintenance of City streets)\n",
    "Q8_3 = pd.DataFrame(data.loc[:,'Q8_3'])\n",
    "Q8_3['ZIP'] = data['ZIP']\n",
    "#Q8_3.head(5)\n",
    "\n",
    "#Find average rating on Q8_3 per zip code\n",
    "avg_ratings_per_zip_q83 = Q8_3.groupby('ZIP', as_index=False)['Q8_3'].mean()\n",
    "#avg_ratings_per_zip_q83.head()\n",
    "\n",
    "#FOR GEOGRAPH: Extract 5 zipcodes with lowest average rating\n",
    "lowest_q83 = avg_ratings_per_zip_q83.nsmallest(n=5, columns='Q8_3', keep='first')\n",
    "\n"
   ]
  },
  {
   "cell_type": "code",
   "execution_count": 111,
   "metadata": {},
   "outputs": [
    {
     "data": {
      "text/html": [
       "<div>\n",
       "<style>\n",
       "    .dataframe thead tr:only-child th {\n",
       "        text-align: right;\n",
       "    }\n",
       "\n",
       "    .dataframe thead th {\n",
       "        text-align: left;\n",
       "    }\n",
       "\n",
       "    .dataframe tbody tr th {\n",
       "        vertical-align: top;\n",
       "    }\n",
       "</style>\n",
       "<table border=\"1\" class=\"dataframe\">\n",
       "  <thead>\n",
       "    <tr style=\"text-align: right;\">\n",
       "      <th></th>\n",
       "      <th>Q8_3</th>\n",
       "      <th>2017-09</th>\n",
       "    </tr>\n",
       "  </thead>\n",
       "  <tbody>\n",
       "    <tr>\n",
       "      <th>Q8_3</th>\n",
       "      <td>1.000000</td>\n",
       "      <td>-0.037873</td>\n",
       "    </tr>\n",
       "    <tr>\n",
       "      <th>2017-09</th>\n",
       "      <td>-0.037873</td>\n",
       "      <td>1.000000</td>\n",
       "    </tr>\n",
       "  </tbody>\n",
       "</table>\n",
       "</div>"
      ],
      "text/plain": [
       "             Q8_3   2017-09\n",
       "Q8_3     1.000000 -0.037873\n",
       "2017-09 -0.037873  1.000000"
      ]
     },
     "execution_count": 111,
     "metadata": {},
     "output_type": "execute_result"
    }
   ],
   "source": [
    "#Create dataframe with zipcode, average rating for Q8_3, and avg house prices 2017-09\n",
    "Q8_3_rating_price = avg_ratings_per_zip_q83.merge(avg_house_prices, left_on='ZIP', right_on='RegionName')\n",
    "Q8_3_rating_price = Q8_3_rating_price[['ZIP','Q8_3', '2017-09']]\n",
    "Q8_3_rating_price.set_index('ZIP', inplace=True)\n",
    "\n",
    "#Compute correlation between avg rating and avg house price\n",
    "Q8_3_corr = Q8_3_rating_price.corr()\n",
    "Q8_3_corr\n"
   ]
  },
  {
   "cell_type": "code",
   "execution_count": 112,
   "metadata": {},
   "outputs": [
    {
     "data": {
      "text/plain": [
       "Text(0.5,1,'Average Rating on Q8_3 vs. Average House Price')"
      ]
     },
     "execution_count": 112,
     "metadata": {},
     "output_type": "execute_result"
    },
    {
     "data": {
      "image/png": "[encoded data removed]",
      "text/plain": [
       "<matplotlib.figure.Figure at 0x1da8400e128>"
      ]
     },
     "metadata": {},
     "output_type": "display_data"
    }
   ],
   "source": [
    "#Plot scatterplot of avg rating vs avg house price\n",
    "Q8_3_scatter = plt.scatter(Q8_3_rating_price['Q8_3'], Q8_3_rating_price['2017-09'], c='blue')\n",
    "plt.xlabel('Average Rating on Q8_3')\n",
    "plt.ylabel('Average House Price ($1,000)')\n",
    "plt.title('Average Rating on Q8_3 vs. Average House Price')"
   ]
  },
  {
   "cell_type": "code",
   "execution_count": 113,
   "metadata": {},
   "outputs": [
    {
     "data": {
      "text/plain": [
       "47"
      ]
     },
     "execution_count": 113,
     "metadata": {},
     "output_type": "execute_result"
    }
   ],
   "source": [
    "#Extract Q3_8 (Maintenance of City streets, sidewalks, and infrastructure)\n",
    "Q3_8 = pd.DataFrame(data.loc[:,'Q3_8'])\n",
    "Q3_8['ZIP'] = data['ZIP']\n",
    "\n",
    "#Find average rating on Q8_3 per zip code\n",
    "avg_ratings_per_zip_q38 = Q3_8.groupby('ZIP', as_index=False)['Q3_8'].mean()\n",
    "\n",
    "#Extract 5 zipcodes with lowest average rating\n",
    "lowest_q38 = avg_ratings_per_zip_q38.nsmallest(n=5, columns='Q3_8', keep='first')\n",
    "len(avg_ratings_per_zip_q38)"
   ]
  },
  {
   "cell_type": "code",
   "execution_count": 114,
   "metadata": {},
   "outputs": [
    {
     "name": "stdout",
     "output_type": "stream",
     "text": [
      "      ZIP      Q8_4\n",
      "3   91945  1.000000\n",
      "4   91950  1.000000\n",
      "7   92081  1.000000\n",
      "8   92093  1.000000\n",
      "17  92109  1.921348\n"
     ]
    }
   ],
   "source": [
    "#Extract Q8_4 (Quality of street repairs)\n",
    "Q8_4 = pd.DataFrame(data.loc[:,'Q8_4'])\n",
    "Q8_4['ZIP'] = data['ZIP']\n",
    "\n",
    "#Find average rating on Q8_3 per zip code\n",
    "avg_ratings_per_zip_q84 = Q8_4.groupby('ZIP', as_index=False)['Q8_4'].mean()\n",
    "\n",
    "#Extract 5 zipcodes with lowest average rating\n",
    "lowest_q84 = avg_ratings_per_zip_q84.nsmallest(n=5, columns='Q8_4', keep='first')\n",
    "print(lowest_q84)\n"
   ]
  },
  {
   "cell_type": "code",
   "execution_count": null,
   "metadata": {
    "collapsed": true
   },
   "outputs": [],
   "source": []
  }
 ],
 "metadata": {
  "kernelspec": {
   "display_name": "Python 3",
   "language": "python",
   "name": "python3"
  },
  "language_info": {
   "codemirror_mode": {
    "name": "ipython",
    "version": 3
   },
   "file_extension": ".py",
   "mimetype": "text/x-python",
   "name": "python",
   "nbconvert_exporter": "python",
   "pygments_lexer": "ipython3",
   "version": "3.6.3"
  }
 },
 "nbformat": 4,
 "nbformat_minor": 2
}
